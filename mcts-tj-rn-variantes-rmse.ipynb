{
 "cells": [
  {
   "cell_type": "code",
   "execution_count": 1,
   "id": "c766de0f",
   "metadata": {
    "execution": {
     "iopub.execute_input": "2024-12-01T18:24:15.523122Z",
     "iopub.status.busy": "2024-12-01T18:24:15.522836Z",
     "iopub.status.idle": "2024-12-01T18:24:26.977773Z",
     "shell.execute_reply": "2024-12-01T18:24:26.977045Z"
    },
    "papermill": {
     "duration": 11.461338,
     "end_time": "2024-12-01T18:24:26.979733",
     "exception": false,
     "start_time": "2024-12-01T18:24:15.518395",
     "status": "completed"
    },
    "tags": []
   },
   "outputs": [],
   "source": [
    "import os\n",
    "import warnings\n",
    "from pathlib import Path\n",
    "\n",
    "warnings.filterwarnings('ignore')\n",
    "\n",
    "# Configuración de memoria GPU debe estar antes de inicializar TensorFlow\n",
    "import tensorflow as tf"
   ]
  },
  {
   "cell_type": "code",
   "execution_count": 2,
   "id": "c70822bd",
   "metadata": {
    "execution": {
     "iopub.execute_input": "2024-12-01T18:24:26.987399Z",
     "iopub.status.busy": "2024-12-01T18:24:26.986940Z",
     "iopub.status.idle": "2024-12-01T18:24:26.991603Z",
     "shell.execute_reply": "2024-12-01T18:24:26.990955Z"
    },
    "papermill": {
     "duration": 0.010094,
     "end_time": "2024-12-01T18:24:26.993241",
     "exception": false,
     "start_time": "2024-12-01T18:24:26.983147",
     "status": "completed"
    },
    "tags": []
   },
   "outputs": [],
   "source": [
    "# Configuración de parámetros\n",
    "class configuracion_parametros:\n",
    "    train_path = Path('/kaggle/input/um-game-playing-strength-of-mcts-variants/train.csv')\n",
    "    test_path = Path('/kaggle/input/um-game-playing-strength-of-mcts-variants/test.csv')\n",
    "    sample_submission_path = Path('/kaggle/input/um-game-playing-strength-of-mcts-variants/sample_submission.csv')\n",
    "    \n",
    "    model_input_path = \"/kaggle/input/neural-network-with-nash-equilibrium/keras/default/1/saved_model.keras\"\n",
    "    model_output_path = \"/kaggle/working/saved_model.keras\"  \n",
    "    \n",
    "    dnn_title = 'Neural Network with Nash Equilibrium'\n",
    "    \n",
    "    batch_size = 233234 #60000\n",
    "    early_stop = 500\n",
    "    n_splits = 5\n",
    "    color = '#C9A9A6'\n",
    "    dnn_epochs = 200\n",
    "    dnn_batch_size = 64\n",
    "    learning_rate = 0.0001  # Ajuste para mejor convergencia"
   ]
  },
  {
   "cell_type": "code",
   "execution_count": 3,
   "id": "761929ec",
   "metadata": {
    "execution": {
     "iopub.execute_input": "2024-12-01T18:24:27.000328Z",
     "iopub.status.busy": "2024-12-01T18:24:26.999885Z",
     "iopub.status.idle": "2024-12-01T18:24:27.201910Z",
     "shell.execute_reply": "2024-12-01T18:24:27.201089Z"
    },
    "papermill": {
     "duration": 0.207551,
     "end_time": "2024-12-01T18:24:27.203815",
     "exception": false,
     "start_time": "2024-12-01T18:24:26.996264",
     "status": "completed"
    },
    "tags": []
   },
   "outputs": [
    {
     "name": "stdout",
     "output_type": "stream",
     "text": [
      "GPUs configuradas con crecimiento de memoria: [PhysicalDevice(name='/physical_device:GPU:0', device_type='GPU'), PhysicalDevice(name='/physical_device:GPU:1', device_type='GPU')]\n"
     ]
    }
   ],
   "source": [
    "# Configurar crecimiento de memoria antes de inicializar cualquier contexto\n",
    "gpus = tf.config.experimental.list_physical_devices('GPU')\n",
    "if gpus:\n",
    "    try:\n",
    "        for gpu in gpus:\n",
    "            tf.config.experimental.set_memory_growth(gpu, True)\n",
    "        print(f\"GPUs configuradas con crecimiento de memoria: {gpus}\")\n",
    "    except RuntimeError as e:\n",
    "        print(f\"Error al configurar GPUs: {e}\")\n",
    "else:\n",
    "    print(\"No se encontraron GPUs.\")"
   ]
  },
  {
   "cell_type": "code",
   "execution_count": 4,
   "id": "aa557153",
   "metadata": {
    "execution": {
     "iopub.execute_input": "2024-12-01T18:24:27.211744Z",
     "iopub.status.busy": "2024-12-01T18:24:27.211079Z",
     "iopub.status.idle": "2024-12-01T18:24:28.486845Z",
     "shell.execute_reply": "2024-12-01T18:24:28.486180Z"
    },
    "papermill": {
     "duration": 1.281546,
     "end_time": "2024-12-01T18:24:28.488818",
     "exception": false,
     "start_time": "2024-12-01T18:24:27.207272",
     "status": "completed"
    },
    "tags": []
   },
   "outputs": [],
   "source": [
    "# Continuar con las importaciones restantes\n",
    "import sys\n",
    "import numpy as np\n",
    "import polars as pl\n",
    "import pandas as pd\n",
    "from tensorflow.keras import layers, models, regularizers\n",
    "from tensorflow.keras.models import load_model\n",
    "from tensorflow.keras.callbacks import ReduceLROnPlateau\n",
    "from sklearn.model_selection import GroupKFold\n",
    "from sklearn.metrics import mean_squared_error as mse\n",
    "from sklearn.preprocessing import LabelEncoder, StandardScaler\n",
    "import kaggle_evaluation.mcts_inference_server\n",
    "from math import sqrt"
   ]
  },
  {
   "cell_type": "code",
   "execution_count": 5,
   "id": "ee445fa7",
   "metadata": {
    "execution": {
     "iopub.execute_input": "2024-12-01T18:24:28.496450Z",
     "iopub.status.busy": "2024-12-01T18:24:28.496010Z",
     "iopub.status.idle": "2024-12-01T18:24:28.777932Z",
     "shell.execute_reply": "2024-12-01T18:24:28.776985Z"
    },
    "papermill": {
     "duration": 0.287622,
     "end_time": "2024-12-01T18:24:28.779694",
     "exception": false,
     "start_time": "2024-12-01T18:24:28.492072",
     "status": "completed"
    },
    "tags": []
   },
   "outputs": [],
   "source": [
    "# Usar MirroredStrategy después de configurar las GPUs\n",
    "strategy = tf.distribute.MirroredStrategy()"
   ]
  },
  {
   "cell_type": "code",
   "execution_count": 6,
   "id": "cdd44c3d",
   "metadata": {
    "execution": {
     "iopub.execute_input": "2024-12-01T18:24:28.788125Z",
     "iopub.status.busy": "2024-12-01T18:24:28.787841Z",
     "iopub.status.idle": "2024-12-01T18:24:28.791806Z",
     "shell.execute_reply": "2024-12-01T18:24:28.790929Z"
    },
    "papermill": {
     "duration": 0.01042,
     "end_time": "2024-12-01T18:24:28.793313",
     "exception": false,
     "start_time": "2024-12-01T18:24:28.782893",
     "status": "completed"
    },
    "tags": []
   },
   "outputs": [],
   "source": [
    "# Callback para el aprendizaje\n",
    "lr_scheduler = ReduceLROnPlateau(monitor='val_loss', factor=0.5, patience=3)"
   ]
  },
  {
   "cell_type": "code",
   "execution_count": 7,
   "id": "5644b4bd",
   "metadata": {
    "execution": {
     "iopub.execute_input": "2024-12-01T18:24:28.800339Z",
     "iopub.status.busy": "2024-12-01T18:24:28.800061Z",
     "iopub.status.idle": "2024-12-01T18:24:28.804137Z",
     "shell.execute_reply": "2024-12-01T18:24:28.803353Z"
    },
    "papermill": {
     "duration": 0.009398,
     "end_time": "2024-12-01T18:24:28.805687",
     "exception": false,
     "start_time": "2024-12-01T18:24:28.796289",
     "status": "completed"
    },
    "tags": []
   },
   "outputs": [],
   "source": [
    "# Definir custom_loss y callbacks después de las importaciones\n",
    "def custom_loss(y_true, y_pred):\n",
    "    return tf.reduce_mean(tf.square(y_true - y_pred)) + 0.01 * tf.reduce_sum(tf.abs(y_pred))"
   ]
  },
  {
   "cell_type": "code",
   "execution_count": 8,
   "id": "9e866fc8",
   "metadata": {
    "execution": {
     "iopub.execute_input": "2024-12-01T18:24:28.812861Z",
     "iopub.status.busy": "2024-12-01T18:24:28.812602Z",
     "iopub.status.idle": "2024-12-01T18:24:28.821893Z",
     "shell.execute_reply": "2024-12-01T18:24:28.821237Z"
    },
    "papermill": {
     "duration": 0.014639,
     "end_time": "2024-12-01T18:24:28.823410",
     "exception": false,
     "start_time": "2024-12-01T18:24:28.808771",
     "status": "completed"
    },
    "tags": []
   },
   "outputs": [],
   "source": [
    "# Preprocesamiento\n",
    "class procesamiento:\n",
    "    \n",
    "    def __init__(self, batch_size):\n",
    "        self.batch_size = batch_size\n",
    "        \n",
    "    def drop_cols(self, df, bad_cols):\n",
    "        df = df.drop([col for col in bad_cols if col in df.columns])\n",
    "        df = df.drop([col for col in df.columns if df.select(pl.col(col).null_count()).item() == df.height])                \n",
    "        return df\n",
    "    \n",
    "    def cast_datatypes(self, df):\n",
    "        # Primero identificamos las columnas categóricas y las dejamos intactas\n",
    "        cat_cols = df.select(pl.col(pl.String)).columns\n",
    "        df = df.with_columns([pl.col(col).cast(pl.Categorical) for col in cat_cols])  # Convertir a Categorical\n",
    "\n",
    "        # Convertimos el resto de las columnas a tipos apropiados (Int o Float)\n",
    "        for col in df.columns:\n",
    "            if col not in cat_cols:\n",
    "                try:\n",
    "                    val = df.select(pl.col(col).drop_nulls().first()).item()\n",
    "                    if isinstance(val, int):\n",
    "                        df = df.with_columns(pl.col(col).cast(pl.Int16))  # Convierte a Int16 si es un entero\n",
    "                    else:\n",
    "                        df = df.with_columns(pl.col(col).cast(pl.Float32))  # Convierte a Float32 si no es un entero\n",
    "                except Exception as e:\n",
    "                    print(f\"Error en la conversión de columna {col}: {e}\")\n",
    "                    continue\n",
    "        return df\n",
    "    \n",
    "    def apply_prosecution_data(self, path, bad_cols):\n",
    "        df = pl.read_csv(path, batch_size=self.batch_size)        \n",
    "        df = self.drop_cols(df, bad_cols)        \n",
    "        df = self.cast_datatypes(df)\n",
    "        cat_cols = [col for col in df.columns if df[col].dtype == pl.Categorical]  # Identificar las columnas categóricas\n",
    "        return df, cat_cols\n",
    "\n",
    "    def apply_prosecution_data_from_polars_df(self, df, bad_cols):\n",
    "        df = self.drop_cols(df, bad_cols)        \n",
    "        df = self.cast_datatypes(df)\n",
    "        cat_cols = [col for col in df.columns if df[col].dtype == pl.Categorical]  # Identificar las columnas categóricas\n",
    "        return df, cat_cols\n",
    "\n",
    "prosecution_data = procesamiento(configuracion_parametros.batch_size)"
   ]
  },
  {
   "cell_type": "code",
   "execution_count": 9,
   "id": "a4564af0",
   "metadata": {
    "execution": {
     "iopub.execute_input": "2024-12-01T18:24:28.830511Z",
     "iopub.status.busy": "2024-12-01T18:24:28.829917Z",
     "iopub.status.idle": "2024-12-01T18:24:28.836267Z",
     "shell.execute_reply": "2024-12-01T18:24:28.835537Z"
    },
    "papermill": {
     "duration": 0.011429,
     "end_time": "2024-12-01T18:24:28.837752",
     "exception": false,
     "start_time": "2024-12-01T18:24:28.826323",
     "status": "completed"
    },
    "tags": []
   },
   "outputs": [],
   "source": [
    "# Función para codificar columnas categóricas\n",
    "def encode_categorical_columns(data, cat_cols):\n",
    "    for col in cat_cols:\n",
    "        if col in data.columns:\n",
    "            le = LabelEncoder()\n",
    "            data[col] = le.fit_transform(data[col].astype(str))\n",
    "    return data\n",
    "\n",
    "def get_x(x: pl.DataFrame, bad_cols):\n",
    "    X, cat_cols = prosecution_data.apply_prosecution_data_from_polars_df(x, bad_cols)        \n",
    "    X = X.to_pandas()\n",
    "        \n",
    "    # Codificar solo las columnas categóricas relevantes\n",
    "    X = encode_categorical_columns(X, cat_cols)        \n",
    "               \n",
    "    # Escalar las características\n",
    "    scaler = StandardScaler()\n",
    "    X = scaler.fit_transform(X)\n",
    "    X = X.astype(float)\n",
    "    return X\n",
    "\n",
    "def get_xy(x: pl.DataFrame, bad_cols, target):\n",
    "    df, cat_cols = prosecution_data.apply_prosecution_data_from_polars_df(x, bad_cols)        \n",
    "    df = df.to_pandas()\n",
    "\n",
    "    # Obtención de las variable X y la variable objetivo (y)\n",
    "    X = df.drop([target], axis=1)\n",
    "    y = df[target]\n",
    "    y = y.astype(float)\n",
    "        \n",
    "    # Codificar solo las columnas categóricas relevantes\n",
    "    X = encode_categorical_columns(X, cat_cols)        \n",
    "               \n",
    "    # Escalar las características\n",
    "    scaler = StandardScaler()\n",
    "    X = scaler.fit_transform(X)\n",
    "    X = X.astype(float)\n",
    "    return X, y"
   ]
  },
  {
   "cell_type": "code",
   "execution_count": 10,
   "id": "8022ce41",
   "metadata": {
    "execution": {
     "iopub.execute_input": "2024-12-01T18:24:28.844367Z",
     "iopub.status.busy": "2024-12-01T18:24:28.844150Z",
     "iopub.status.idle": "2024-12-01T18:24:28.853672Z",
     "shell.execute_reply": "2024-12-01T18:24:28.852724Z"
    },
    "papermill": {
     "duration": 0.014794,
     "end_time": "2024-12-01T18:24:28.855382",
     "exception": false,
     "start_time": "2024-12-01T18:24:28.840588",
     "status": "completed"
    },
    "tags": []
   },
   "outputs": [],
   "source": [
    "# Modelo neuronal\n",
    "class NeuralNetworkModel:\n",
    "    \n",
    "    def __init__(self, input_shape, output_shape, learning_rate,                  \n",
    "                model_input_path,\n",
    "                model_output_path):\n",
    "        \n",
    "        self.model_output_path = model_output_path\n",
    "        self.model = None\n",
    "        \n",
    "        # Verificar si el archivo del modelo ya existe\n",
    "\n",
    "        # En la cuenta\n",
    "        if os.path.exists(model_input_path) and self.model == None:\n",
    "            # Cargar el modelo si ya existe\n",
    "            self.model = load_model(model_input_path)            \n",
    "            print(\"Modelo cargado exitosamente desde la cuenta: \", model_input_path)\n",
    "\n",
    "        # En el directorio de salida\n",
    "        elif os.path.exists(self.model_output_path) and self.model == None:\n",
    "            # Cargar el modelo si ya existe\n",
    "            self.model = load_model(self.model_output_path)            \n",
    "            print(\"Modelo cargado exitosamente desde la salida: \", self.model_output_path)\n",
    "\n",
    "        # Si el archivo no existe, crear un modelo nuevo y guardarlo\n",
    "        elif self.model == None: \n",
    "            \n",
    "            print(\"No se encuentra el archivo del modelo. Creando un nuevo modelo en: \", self.model_output_path)\n",
    "\n",
    "            # Definir el modelo dentro del contexto de la estrategia\n",
    "            with strategy.scope():\n",
    "                self.model = models.Sequential([\n",
    "                                layers.Input(shape=(input_shape,)),\n",
    "                                layers.Dense(256, activation='relu', kernel_regularizer=regularizers.l2(0.01)),\n",
    "                                layers.Dropout(0.4),\n",
    "                                layers.Dense(128, activation='relu', kernel_regularizer=regularizers.l2(0.01)),\n",
    "                                layers.Dropout(0.3),\n",
    "                                layers.Dense(64, activation='relu', kernel_regularizer=regularizers.l2(0.01)),\n",
    "                                layers.Dense(output_shape)\n",
    "                            ])\n",
    "                self.model.compile(optimizer=tf.keras.optimizers.Adam(learning_rate=learning_rate),\n",
    "                                   loss='mean_squared_error', metrics=['mse'])\n",
    "            # Resumen del modelo\n",
    "            self.model.summary()\n",
    "            \n",
    "            self.model.save(self.model_output_path)  # Guardar el modelo nuevo            \n",
    "            print(\"Nuevo modelo guardado en: \", self.model_output_path)    \n",
    "    \n",
    "    def fit(self, X_train, y_train, X_valid, y_valid, num_epochs, num_batch_size):\n",
    "        early_stop = tf.keras.callbacks.EarlyStopping(monitor='val_loss', patience=10, restore_best_weights=True)\n",
    "        self.model.fit(X_train, y_train, validation_data=(X_valid, y_valid),\n",
    "                          epochs=num_epochs, batch_size=num_batch_size, callbacks=[early_stop, lr_scheduler])\n",
    "        self.model.save(self.model_output_path)  # Guardar el modelo después del entrenamiento\n",
    "        print(\"Entrenamiento terminado. Modelo guardado en: \", self.model_output_path)    \n",
    "    \n",
    "    def predict(self, X_test):        \n",
    "        return self.model.predict(X_test, verbose=0).flatten()\n",
    "\n",
    "    def get_model(self):\n",
    "        return self.model"
   ]
  },
  {
   "cell_type": "code",
   "execution_count": 11,
   "id": "33ef3cea",
   "metadata": {
    "execution": {
     "iopub.execute_input": "2024-12-01T18:24:28.862113Z",
     "iopub.status.busy": "2024-12-01T18:24:28.861867Z",
     "iopub.status.idle": "2024-12-01T18:24:28.869431Z",
     "shell.execute_reply": "2024-12-01T18:24:28.868760Z"
    },
    "papermill": {
     "duration": 0.012813,
     "end_time": "2024-12-01T18:24:28.871074",
     "exception": false,
     "start_time": "2024-12-01T18:24:28.858261",
     "status": "completed"
    },
    "tags": []
   },
   "outputs": [],
   "source": [
    "# Validación del modelo\n",
    "class modelo_validacion:\n",
    "    \n",
    "    def __init__(self, n_splits, dnn_epochs, dnn_batch_size, learning_rate, \n",
    "                 model_input_path, model_output_path):\n",
    "        self.n_splits = n_splits\n",
    "        self.dnn_epochs = dnn_epochs\n",
    "        self.dnn_batch_size = dnn_batch_size\n",
    "        self.learning_rate = learning_rate              \n",
    "        self.mse = 0        \n",
    "        self.model_input_path = model_input_path\n",
    "        self.model_output_path = model_output_path\n",
    "        self.dnn_model = None\n",
    "\n",
    "    def init(self, data, bad_cols, target):        \n",
    "        X, y = get_xy(data, bad_cols, target)\n",
    "        self.dnn_model = NeuralNetworkModel(X.shape[1], 1, self.learning_rate, self.model_input_path, self.model_output_path)\n",
    "        return self.dnn_model        \n",
    "\n",
    "    def train_model_and_get_mse(self, data, bad_cols, target):\n",
    "\n",
    "        if (self.dnn_model == None):\n",
    "          print(\"El modelo no existe, debe obtenerse primero.\")  \n",
    "          return 0       \n",
    "        else:\n",
    "          X, y = get_xy(data, bad_cols, target)\n",
    "          group = data['GameRulesetName']        \n",
    "          cv = GroupKFold(n_splits=self.n_splits)     \n",
    "\n",
    "          k = 0\n",
    "          self.mse = 0\n",
    "          for train_index, valid_index in cv.split(X, y, group):\n",
    "              X_train, X_valid = X[train_index], X[valid_index]\n",
    "              y_train, y_valid = y[train_index], y[valid_index]\n",
    "              self.dnn_model.fit(X_train, y_train, X_valid, y_valid, int(self.dnn_epochs), self.dnn_batch_size)\n",
    "              self.mse += mse(y_valid, self.dnn_model.predict(X_valid))\n",
    "              k += 1\n",
    "\n",
    "          if (k == 0):\n",
    "            k = 1\n",
    "          \n",
    "          self.mse = self.mse/k       \n",
    "          \n",
    "          return self.mse\n",
    "\n",
    "    def get_mse_after_training(self):        \n",
    "        return self.mse\n",
    "\n",
    "    def get_model(self):\n",
    "        return self.dnn_model"
   ]
  },
  {
   "cell_type": "code",
   "execution_count": 12,
   "id": "991e03bd",
   "metadata": {
    "execution": {
     "iopub.execute_input": "2024-12-01T18:24:28.878067Z",
     "iopub.status.busy": "2024-12-01T18:24:28.877819Z",
     "iopub.status.idle": "2024-12-01T18:24:56.107496Z",
     "shell.execute_reply": "2024-12-01T18:24:56.106612Z"
    },
    "papermill": {
     "duration": 27.235154,
     "end_time": "2024-12-01T18:24:56.109295",
     "exception": false,
     "start_time": "2024-12-01T18:24:28.874141",
     "status": "completed"
    },
    "tags": []
   },
   "outputs": [
    {
     "name": "stdout",
     "output_type": "stream",
     "text": [
      "Modelo cargado exitosamente desde la cuenta:  /kaggle/input/neural-network-with-nash-equilibrium/keras/default/1/saved_model.keras\n"
     ]
    },
    {
     "data": {
      "text/plain": [
       "0.45103908656574937"
      ]
     },
     "execution_count": 12,
     "metadata": {},
     "output_type": "execute_result"
    }
   ],
   "source": [
    "bad_cols = [\n",
    "    'Id',\n",
    "    'Behaviour',\n",
    "    'StateRepetition',\n",
    "    'Duration',\n",
    "    'Complexity',\n",
    "    'BoardCoverage',\n",
    "    'GameOutcome',\n",
    "    'StateEvaluation',\n",
    "    'Clarity',\n",
    "    'Decisiveness',\n",
    "    'Drama',\n",
    "    'MoveEvaluation',\n",
    "    'StateEvaluationDifference',\n",
    "    'BoardSitesOccupied',\n",
    "    'BranchingFactor',\n",
    "    'DecisionFactor',\n",
    "    'MoveDistance',\n",
    "    'PieceNumber',\n",
    "    'ScoreDifference',\n",
    "    'EnglishRules',\n",
    "    'LudRules',\n",
    "    'num_wins_agent1',\n",
    "    'num_draws_agent1',\n",
    "    'num_losses_agent1'\n",
    "]\n",
    "\n",
    "target = 'utility_agent1'\n",
    "\n",
    "Train_data = pl.read_csv(configuracion_parametros.train_path, batch_size = configuracion_parametros.batch_size)\n",
    "validacion = modelo_validacion(configuracion_parametros.n_splits, configuracion_parametros.dnn_epochs, \n",
    "                               configuracion_parametros.dnn_batch_size, configuracion_parametros.learning_rate,\n",
    "                         configuracion_parametros.model_input_path, configuracion_parametros.model_output_path)\n",
    "dnn_model = validacion.init(Train_data, bad_cols, target)\n",
    "\n",
    "X, y = get_xy(Train_data, bad_cols, target)\n",
    "from sklearn.model_selection import train_test_split\n",
    "X_ent, X_val, y_ent, y_val = train_test_split(X, y, test_size=0.2, random_state=42)\n",
    "y_pred = dnn_model.predict(X_val)\n",
    "rmse = np.sqrt(mse(y_val, y_pred))\n",
    "rmse"
   ]
  },
  {
   "cell_type": "code",
   "execution_count": 13,
   "id": "bc5d63f0",
   "metadata": {
    "execution": {
     "iopub.execute_input": "2024-12-01T18:24:56.117347Z",
     "iopub.status.busy": "2024-12-01T18:24:56.116839Z",
     "iopub.status.idle": "2024-12-01T18:24:56.581893Z",
     "shell.execute_reply": "2024-12-01T18:24:56.581007Z"
    },
    "papermill": {
     "duration": 0.471086,
     "end_time": "2024-12-01T18:24:56.583779",
     "exception": false,
     "start_time": "2024-12-01T18:24:56.112693",
     "status": "completed"
    },
    "tags": []
   },
   "outputs": [
    {
     "data": {
      "text/html": [
       "<div><style>\n",
       ".dataframe > thead > tr,\n",
       ".dataframe > tbody > tr {\n",
       "  text-align: right;\n",
       "  white-space: pre-wrap;\n",
       "}\n",
       "</style>\n",
       "<small>shape: (3, 2)</small><table border=\"1\" class=\"dataframe\"><thead><tr><th>Id</th><th>utility_agent1</th></tr><tr><td>i64</td><td>f32</td></tr></thead><tbody><tr><td>233234</td><td>0.017508</td></tr><tr><td>233235</td><td>-0.013591</td></tr><tr><td>233236</td><td>0.01564</td></tr></tbody></table></div>"
      ],
      "text/plain": [
       "shape: (3, 2)\n",
       "┌────────┬────────────────┐\n",
       "│ Id     ┆ utility_agent1 │\n",
       "│ ---    ┆ ---            │\n",
       "│ i64    ┆ f32            │\n",
       "╞════════╪════════════════╡\n",
       "│ 233234 ┆ 0.017508       │\n",
       "│ 233235 ┆ -0.013591      │\n",
       "│ 233236 ┆ 0.01564        │\n",
       "└────────┴────────────────┘"
      ]
     },
     "execution_count": 13,
     "metadata": {},
     "output_type": "execute_result"
    }
   ],
   "source": [
    "bad_cols_test = [\n",
    "    'Id',\n",
    "    'Behaviour',\n",
    "    'StateRepetition',\n",
    "    'Duration',\n",
    "    'Complexity',\n",
    "    'BoardCoverage',\n",
    "    'GameOutcome',\n",
    "    'StateEvaluation',\n",
    "    'Clarity',\n",
    "    'Decisiveness',\n",
    "    'Drama',\n",
    "    'MoveEvaluation',\n",
    "    'StateEvaluationDifference',\n",
    "    'BoardSitesOccupied',\n",
    "    'BranchingFactor',\n",
    "    'DecisionFactor',\n",
    "    'MoveDistance',\n",
    "    'PieceNumber',\n",
    "    'ScoreDifference',\n",
    "    'EnglishRules',\n",
    "    'LudRules'    \n",
    "]\n",
    "\n",
    "# Función de predicción para la evaluación\n",
    "def predict(test: pl.DataFrame, sample_sub: pl.DataFrame):\n",
    "    try: \n",
    "        X_test = get_x(test, bad_cols_test)      \n",
    "        \n",
    "        # Devolver el resultado de la predicción\n",
    "        return sample_sub.with_columns(pl.DataFrame({'utility_agent1': dnn_model.predict(X_test)}))\n",
    "    \n",
    "    except Exception as e:\n",
    "        print(f\"Error en la predicción: {e}\")\n",
    "        return sample_sub.with_columns(pl.lit(0.0).alias('utility_agent1'))\n",
    "\n",
    "\n",
    "test = pl.read_csv(configuracion_parametros.test_path)\n",
    "submission = pl.read_csv(configuracion_parametros.sample_submission_path)\n",
    "\n",
    "ret = predict(test, submission)\n",
    "ret"
   ]
  },
  {
   "cell_type": "code",
   "execution_count": 14,
   "id": "2d98714e",
   "metadata": {
    "execution": {
     "iopub.execute_input": "2024-12-01T18:24:56.591851Z",
     "iopub.status.busy": "2024-12-01T18:24:56.591596Z",
     "iopub.status.idle": "2024-12-01T18:24:57.202695Z",
     "shell.execute_reply": "2024-12-01T18:24:57.201795Z"
    },
    "papermill": {
     "duration": 0.617316,
     "end_time": "2024-12-01T18:24:57.204750",
     "exception": false,
     "start_time": "2024-12-01T18:24:56.587434",
     "status": "completed"
    },
    "tags": []
   },
   "outputs": [],
   "source": [
    "# Configuración del servidor de inferencia\n",
    "inference_server = kaggle_evaluation.mcts_inference_server.MCTSInferenceServer(predict)\n",
    "\n",
    "if os.getenv('KAGGLE_IS_COMPETITION_RERUN'):\n",
    "    inference_server.serve()\n",
    "else:\n",
    "    inference_server.run_local_gateway(\n",
    "        (\n",
    "            '/kaggle/input/um-game-playing-strength-of-mcts-variants/test.csv',\n",
    "            '/kaggle/input/um-game-playing-strength-of-mcts-variants/sample_submission.csv'\n",
    "        )\n",
    "    )"
   ]
  }
 ],
 "metadata": {
  "kaggle": {
   "accelerator": "nvidiaTeslaT4",
   "dataSources": [
    {
     "databundleVersionId": 9515283,
     "sourceId": 70089,
     "sourceType": "competition"
    },
    {
     "isSourceIdPinned": true,
     "modelId": 179992,
     "modelInstanceId": 157579,
     "sourceId": 184847,
     "sourceType": "modelInstanceVersion"
    }
   ],
   "isGpuEnabled": true,
   "isInternetEnabled": false,
   "language": "python",
   "sourceType": "notebook"
  },
  "kernelspec": {
   "display_name": "Python 3",
   "language": "python",
   "name": "python3"
  },
  "language_info": {
   "codemirror_mode": {
    "name": "ipython",
    "version": 3
   },
   "file_extension": ".py",
   "mimetype": "text/x-python",
   "name": "python",
   "nbconvert_exporter": "python",
   "pygments_lexer": "ipython3",
   "version": "3.10.14"
  },
  "papermill": {
   "default_parameters": {},
   "duration": 46.572777,
   "end_time": "2024-12-01T18:24:59.857471",
   "environment_variables": {},
   "exception": null,
   "input_path": "__notebook__.ipynb",
   "output_path": "__notebook__.ipynb",
   "parameters": {},
   "start_time": "2024-12-01T18:24:13.284694",
   "version": "2.6.0"
  }
 },
 "nbformat": 4,
 "nbformat_minor": 5
}
